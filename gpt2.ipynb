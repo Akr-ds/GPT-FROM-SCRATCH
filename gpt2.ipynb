{
  "cells": [
    {
      "cell_type": "markdown",
      "metadata": {
        "id": "view-in-github",
        "colab_type": "text"
      },
      "source": [
        "<a href=\"https://colab.research.google.com/github/Akr-ds/GPT-FROM-SCRATCH/blob/main/gpt2.ipynb\" target=\"_parent\"><img src=\"https://colab.research.google.com/assets/colab-badge.svg\" alt=\"Open In Colab\"/></a>"
      ]
    },
    {
      "cell_type": "code",
      "execution_count": 9,
      "metadata": {
        "colab": {
          "base_uri": "https://localhost:8080/"
        },
        "id": "fqOl25bGz8Af",
        "outputId": "e36fc845-0d27-4687-85a7-10818904d91a"
      },
      "outputs": [
        {
          "output_type": "stream",
          "name": "stdout",
          "text": [
            "step: 0, train loss: 4.434, val loss: 4.429\n",
            "step: 100, train loss: 2.644, val loss: 2.665\n",
            "step: 200, train loss: 2.527, val loss: 2.569\n",
            "step: 300, train loss: 2.454, val loss: 2.515\n",
            "step: 400, train loss: 2.411, val loss: 2.479\n",
            "step: 500, train loss: 2.380, val loss: 2.450\n",
            "step: 600, train loss: 2.298, val loss: 2.364\n",
            "step: 700, train loss: 2.203, val loss: 2.288\n",
            "step: 800, train loss: 2.150, val loss: 2.236\n",
            "step: 900, train loss: 2.085, val loss: 2.175\n",
            "step: 1000, train loss: 2.009, val loss: 2.111\n",
            "step: 1100, train loss: 1.959, val loss: 2.068\n",
            "step: 1200, train loss: 1.910, val loss: 2.025\n",
            "step: 1300, train loss: 1.869, val loss: 1.989\n",
            "step: 1400, train loss: 1.819, val loss: 1.946\n",
            "step: 1500, train loss: 1.770, val loss: 1.907\n",
            "step: 1600, train loss: 1.747, val loss: 1.896\n",
            "step: 1700, train loss: 1.721, val loss: 1.850\n",
            "step: 1800, train loss: 1.681, val loss: 1.834\n",
            "step: 1900, train loss: 1.662, val loss: 1.814\n",
            "step: 2000, train loss: 1.622, val loss: 1.807\n",
            "step: 2100, train loss: 1.611, val loss: 1.785\n",
            "step: 2200, train loss: 1.584, val loss: 1.762\n",
            "step: 2300, train loss: 1.552, val loss: 1.741\n",
            "step: 2400, train loss: 1.541, val loss: 1.730\n",
            "step: 2500, train loss: 1.511, val loss: 1.737\n",
            "step: 2600, train loss: 1.491, val loss: 1.707\n",
            "step: 2700, train loss: 1.496, val loss: 1.688\n",
            "step: 2800, train loss: 1.477, val loss: 1.674\n",
            "step: 2900, train loss: 1.458, val loss: 1.664\n",
            "step: 3000, train loss: 1.441, val loss: 1.662\n",
            "step: 3100, train loss: 1.423, val loss: 1.641\n",
            "step: 3200, train loss: 1.418, val loss: 1.662\n",
            "step: 3300, train loss: 1.400, val loss: 1.621\n",
            "step: 3400, train loss: 1.366, val loss: 1.627\n",
            "step: 3500, train loss: 1.368, val loss: 1.601\n",
            "step: 3600, train loss: 1.354, val loss: 1.595\n",
            "step: 3700, train loss: 1.341, val loss: 1.594\n",
            "step: 3800, train loss: 1.336, val loss: 1.590\n",
            "step: 3900, train loss: 1.319, val loss: 1.597\n",
            "step: 4000, train loss: 1.302, val loss: 1.575\n",
            "step: 4100, train loss: 1.309, val loss: 1.584\n",
            "step: 4200, train loss: 1.290, val loss: 1.566\n",
            "step: 4300, train loss: 1.275, val loss: 1.564\n",
            "step: 4400, train loss: 1.262, val loss: 1.546\n",
            "step: 4500, train loss: 1.269, val loss: 1.554\n",
            "step: 4600, train loss: 1.258, val loss: 1.562\n",
            "step: 4700, train loss: 1.232, val loss: 1.526\n",
            "step: 4800, train loss: 1.230, val loss: 1.553\n",
            "step: 4900, train loss: 1.212, val loss: 1.525\n",
            "Final loss: 1.298\n"
          ]
        }
      ],
      "source": [
        "import torch\n",
        "import torch.nn as nn\n",
        "import torch.nn.functional as F\n",
        "import mmap\n",
        "import random\n",
        "import pickle\n",
        "import argparse\n",
        "\n",
        "# Hyperparameters\n",
        "block_size = 128\n",
        "batch_size = 32\n",
        "learning_rate = 0.0001\n",
        "max_iters = 5000\n",
        "eval_iters = 100\n",
        "n_embd = 256\n",
        "n_head = 8\n",
        "n_layers = 6\n",
        "dropout = 0.1\n",
        "\n",
        "# Check device\n",
        "device = 'cuda' if torch.cuda.is_available() else 'cpu'\n",
        "\n",
        "# Argument parser (for demonstration)\n",
        "parser = argparse.ArgumentParser(description='This is a demonstration program')\n",
        "\n",
        "# Reading and encoding text\n",
        "chars = \"\"\n",
        "with open(\"/content/wizard_of_oz.txt\", 'r', encoding='utf-8') as f:\n",
        "    text = f.read()\n",
        "    chars = sorted(list(set(text)))\n",
        "\n",
        "vocab_size = len(chars)\n",
        "string_to_int = {ch: i for i, ch in enumerate(chars)}\n",
        "int_to_string = {i: ch for i, ch in enumerate(chars)}\n",
        "encode = lambda s: [string_to_int[c] for c in s]\n",
        "decode = lambda l: ''.join([int_to_string[i] for i in l])\n",
        "\n",
        "# Functions to get random chunks and batches\n",
        "def get_random_chunk(split):\n",
        "    filename = \"/content/train_split.txt\" if split == 'train' else \"/content/val_split.txt\"\n",
        "    with open(filename, 'rb') as f:\n",
        "        with mmap.mmap(f.fileno(), 0, access=mmap.ACCESS_READ) as mm:\n",
        "            file_size = len(mm)\n",
        "            if file_size <= block_size * batch_size:\n",
        "                raise ValueError(\"File size is smaller than the required chunk size.\")\n",
        "            start_pos = random.randint(0, file_size - block_size * batch_size)\n",
        "            mm.seek(start_pos)\n",
        "            block = mm.read(block_size * batch_size - 1)\n",
        "            decoded_block = block.decode('latin-1', errors='ignore').replace('\\r', '')\n",
        "            data = torch.tensor(encode(decoded_block), dtype=torch.long)\n",
        "    return data\n",
        "\n",
        "def get_batch(split):\n",
        "    data = get_random_chunk(split)\n",
        "    ix = torch.randint(len(data) - block_size, (batch_size,))\n",
        "    x = torch.stack([data[i:i + block_size] for i in ix])\n",
        "    y = torch.stack([data[i + 1:i + block_size + 1] for i in ix])\n",
        "    return x.to(device), y.to(device)\n",
        "\n",
        "# Define the Head class for multi-head attention\n",
        "class Head(nn.Module):\n",
        "    def __init__(self, head_size):\n",
        "        super().__init__()\n",
        "        self.key = nn.Linear(n_embd, head_size, bias=False)\n",
        "        self.query = nn.Linear(n_embd, head_size, bias=False)\n",
        "        self.value = nn.Linear(n_embd, head_size, bias=False)\n",
        "        self.register_buffer('tril', torch.tril(torch.ones(block_size, block_size)))\n",
        "        self.dropout = nn.Dropout(dropout)\n",
        "\n",
        "    def forward(self, x):\n",
        "        B, T, C = x.shape\n",
        "        k = self.key(x)\n",
        "        q = self.query(x)\n",
        "        v = self.value(x)\n",
        "        weights = q @ k.transpose(-2, -1) * k.shape[-1] ** -0.5\n",
        "        weights = weights.masked_fill(self.tril[:T, :T] == 0, float('-inf'))\n",
        "        weights = F.softmax(weights, dim=-1)\n",
        "        weights = self.dropout(weights)\n",
        "        output = weights @ v\n",
        "        return output\n",
        "\n",
        "# Define the MultiHeadAttention class\n",
        "class MultiHeadAttention(nn.Module):\n",
        "    def __init__(self, n_head, head_size):\n",
        "        super().__init__()\n",
        "        self.heads = nn.ModuleList([Head(head_size) for _ in range(n_head)])\n",
        "        self.proj = nn.Linear(n_head * head_size, n_embd)\n",
        "        self.dropout = nn.Dropout(dropout)\n",
        "\n",
        "    def forward(self, x):\n",
        "        out = torch.cat([h(x) for h in self.heads], dim=-1)\n",
        "        out = self.dropout(self.proj(out))\n",
        "        return out\n",
        "\n",
        "# Define the FeedForward class\n",
        "class FeedForward(nn.Module):\n",
        "    def __init__(self, n_embd):\n",
        "        super().__init__()\n",
        "        self.net = nn.Sequential(\n",
        "            nn.Linear(n_embd, 4 * n_embd),\n",
        "            nn.ReLU(),\n",
        "            nn.Linear(4 * n_embd, n_embd),\n",
        "            nn.Dropout(dropout)\n",
        "        )\n",
        "\n",
        "    def forward(self, x):\n",
        "        return self.net(x)\n",
        "\n",
        "# Define the Block class for transformer blocks\n",
        "class Block(nn.Module):\n",
        "    def __init__(self, n_embd, n_head):\n",
        "        super().__init__()\n",
        "        head_size = n_embd // n_head\n",
        "        self.sa = MultiHeadAttention(n_head, head_size)\n",
        "        self.ffwd = FeedForward(n_embd)\n",
        "        self.ln1 = nn.LayerNorm(n_embd)\n",
        "        self.ln2 = nn.LayerNorm(n_embd)\n",
        "\n",
        "    def forward(self, x):\n",
        "        y = self.sa(x)\n",
        "        x = self.ln1(x + y)\n",
        "        y = self.ffwd(x)\n",
        "        x = self.ln2(x + y)\n",
        "        return x\n",
        "\n",
        "# Define the main GPT-like model class\n",
        "class GPTLanguageModel(nn.Module):\n",
        "    def __init__(self, vocab_size):\n",
        "        super().__init__()\n",
        "        self.token_embedding_table = nn.Embedding(vocab_size, n_embd)\n",
        "        self.position_embedding_table = nn.Embedding(block_size, n_embd)\n",
        "        self.blocks = nn.Sequential(*[Block(n_embd, n_head=n_head) for _ in range(n_layers)])\n",
        "        self.ln_f = nn.LayerNorm(n_embd)\n",
        "        self.lm_head = nn.Linear(n_embd, vocab_size)\n",
        "        self.apply(self._init_weights)\n",
        "\n",
        "    def _init_weights(self, module):\n",
        "        if isinstance(module, nn.Linear):\n",
        "            torch.nn.init.normal_(module.weight, mean=0.0, std=0.02)\n",
        "            if module.bias is not None:\n",
        "                torch.nn.init.zeros_(module.bias)\n",
        "        elif isinstance(module, nn.Embedding):\n",
        "            torch.nn.init.normal_(module.weight, mean=0.0, std=0.02)\n",
        "\n",
        "    def forward(self, index, targets=None):\n",
        "        B, T = index.shape\n",
        "        tok_emb = self.token_embedding_table(index)\n",
        "        pos_emb = self.position_embedding_table(torch.arange(T, device=device))\n",
        "        x = tok_emb + pos_emb\n",
        "        x = self.blocks(x)\n",
        "        x = self.ln_f(x)\n",
        "        logits = self.lm_head(x)\n",
        "\n",
        "        if targets is None:\n",
        "            loss = None\n",
        "        else:\n",
        "            B, T, C = logits.shape\n",
        "            logits = logits.view(B * T, C)\n",
        "            targets = targets.view(B * T)\n",
        "            loss = F.cross_entropy(logits, targets)\n",
        "\n",
        "        return logits, loss\n",
        "    def generate(self, index, max_new_tokens):\n",
        "        # index is (B, T) array of indices in the current context\n",
        "        for _ in range(max_new_tokens):\n",
        "            # crop idx to the last block_size tokens\n",
        "            index_cond = index[:, -block_size:]\n",
        "            # get the predictions\n",
        "            logits, loss = self.forward(index_cond)\n",
        "            # focus only on the last time step\n",
        "            logits = logits[:, -1, :] # becomes (B, C)\n",
        "            # apply softmax to get probabilities\n",
        "            probs = F.softmax(logits, dim=-1) # (B, C)\n",
        "            # sample from the distribution\n",
        "            index_next = torch.multinomial(probs, num_samples=1) # (B, 1)\n",
        "            # append sampled index to the running sequence\n",
        "            index = torch.cat((index, index_next), dim=1) # (B, T+1)\n",
        "        return index\n",
        "\n",
        "# Initialize model and move to device\n",
        "model = GPTLanguageModel(vocab_size).to(device)\n",
        "\n",
        "# Function to estimate loss\n",
        "@torch.no_grad()\n",
        "def estimate_loss():\n",
        "    out = {}\n",
        "    model.eval()\n",
        "    for split in ['train', 'val']:\n",
        "        losses = torch.zeros(eval_iters)\n",
        "        for k in range(eval_iters):\n",
        "            X, Y = get_batch(split)\n",
        "            logits, loss = model(X, Y)\n",
        "            losses[k] = loss.item()\n",
        "        out[split] = losses.mean()\n",
        "    model.train()\n",
        "    return out\n",
        "\n",
        "# Optimizer\n",
        "optimizer = torch.optim.AdamW(model.parameters(), lr=learning_rate)\n",
        "\n",
        "# Training loop\n",
        "for iter in range(max_iters):\n",
        "    if iter % eval_iters == 0:\n",
        "        losses = estimate_loss()\n",
        "        print(f\"step: {iter}, train loss: {losses['train']:.3f}, val loss: {losses['val']:.3f}\")\n",
        "\n",
        "    xb, yb = get_batch('train')\n",
        "    logits, loss = model(xb, yb)\n",
        "    optimizer.zero_grad(set_to_none=True)\n",
        "    loss.backward()\n",
        "    optimizer.step()\n",
        "\n",
        "print(f\"Final loss: {loss.item():.3f}\")\n",
        ""
      ]
    },
    {
      "cell_type": "code",
      "source": [
        "logits,loss"
      ],
      "metadata": {
        "colab": {
          "base_uri": "https://localhost:8080/"
        },
        "id": "Scj73mQH6ZHi",
        "outputId": "016e1817-bf8e-4bb2-84ca-62f1420c39a0"
      },
      "execution_count": 10,
      "outputs": [
        {
          "output_type": "execute_result",
          "data": {
            "text/plain": [
              "(tensor([[ 0.7120,  4.2509, -2.0725,  ...,  1.6494, -2.3472, -6.3490],\n",
              "         [-5.4692, -2.2357, -6.2730,  ...,  1.3493, -3.7774, -6.7960],\n",
              "         [ 2.2410,  5.0809, -4.3517,  ...,  0.3684, -1.9678, -7.2613],\n",
              "         ...,\n",
              "         [-5.3533, -2.9257, -5.9271,  ...,  1.1979, -4.0094, -6.2755],\n",
              "         [ 0.1913, -0.2643,  0.2239,  ...,  3.8173, -2.7718, -1.8595],\n",
              "         [-2.0542, -1.3142, -3.0003,  ...,  0.2616, -1.3140, -3.5611]],\n",
              "        device='cuda:0', grad_fn=<ViewBackward0>),\n",
              " tensor(1.2976, device='cuda:0', grad_fn=<NllLossBackward0>))"
            ]
          },
          "metadata": {},
          "execution_count": 10
        }
      ]
    },
    {
      "cell_type": "code",
      "source": [
        "prompt = \" uncle henry\"\n",
        "context = torch.tensor(encode(prompt), dtype=torch.long,device=device)\n",
        "gen = decode(model.generate(context.unsqueeze(0), max_new_tokens=100)[0].tolist())\n",
        "gen"
      ],
      "metadata": {
        "colab": {
          "base_uri": "https://localhost:8080/",
          "height": 36
        },
        "id": "syH9fnSY1GiF",
        "outputId": "41fc0dbf-697d-4015-c69f-a17949e0340a"
      },
      "execution_count": 11,
      "outputs": [
        {
          "output_type": "execute_result",
          "data": {
            "text/plain": [
              "' uncle henry and what too very in about the\\ngrows, soming interidly. They walking so that tever glass were and\\nt'"
            ],
            "application/vnd.google.colaboratory.intrinsic+json": {
              "type": "string"
            }
          },
          "metadata": {},
          "execution_count": 11
        }
      ]
    },
    {
      "cell_type": "code",
      "source": [
        "chars = \"\"\n",
        "with open(\"/content/Introduction to Neuroscience.txt\", 'r', encoding='latin-1') as f:\n",
        "    text = f.read()\n",
        "    chars = sorted(list(set(text)))\n",
        "\n",
        "    string_into_int={ch:i for i,ch in enumerate(chars)}\n",
        "    int_to_string={i:ch for i,ch in enumerate(chars)}\n",
        "    encode=lambda s:[string_into_int[c] for c in s]\n",
        "    decode=lambda l:''.join([ int_to_string[i] for i in l])"
      ],
      "metadata": {
        "id": "W7_yWwbIKnMC"
      },
      "execution_count": null,
      "outputs": []
    },
    {
      "cell_type": "code",
      "source": [
        "import torch\n",
        "import torch.nn as nn\n",
        "import torch.nn.functional as F\n",
        "import mmap\n",
        "import random\n",
        "import pickle\n",
        "import argparse\n",
        "\n",
        "# Hyperparameters\n",
        "block_size = 64\n",
        "batch_size = 128\n",
        "learning_rate = 0.1\n",
        "max_iters = 90\n",
        "eval_iters = 18\n",
        "n_embd = 384\n",
        "n_head = 8\n",
        "n_layers = 8\n",
        "dropout = 0.05"
      ],
      "metadata": {
        "id": "YhVA0N0bPsl-"
      },
      "execution_count": null,
      "outputs": []
    },
    {
      "cell_type": "code",
      "source": [
        "torch.randint(len(text)-block_size,(batch_size,))"
      ],
      "metadata": {
        "colab": {
          "base_uri": "https://localhost:8080/"
        },
        "id": "MkhNQFw3CEVQ",
        "outputId": "815bb677-f076-4110-eb32-03b9783bb25f"
      },
      "execution_count": null,
      "outputs": [
        {
          "output_type": "execute_result",
          "data": {
            "text/plain": [
              "tensor([   9174,  292113,  169251,  898667,  468466,  171692,  230941,  488348,\n",
              "         498748,  616619,  686314,  412377,  180236,   48697,  359494,  599405,\n",
              "         440534,  231943,  173731,  156084,  551028,  890440,  661269,  405831,\n",
              "         837394,  985440,  242809,   46132,  880919,  940540,  508795,  943466,\n",
              "         815890,   44045,  797567,  152946,  609730,  489689,  472278, 1018768,\n",
              "         502223,   91808,  600298,  945125,  851339,  888026,  591576,  335650,\n",
              "         131840,  360089,  211538,  297703,  479017,  703069, 1017226,  581283,\n",
              "         700123,  723533,  452813, 1008073,  680458,   91135,  618379, 1032544,\n",
              "         735079,  490454,  800718,  240708, 1024553,  662899,  593536,  315434,\n",
              "         581076,  556582, 1008618,  866992,  911022,  750116,  164983,  997202,\n",
              "          82125,  161583,  163380,  919281,  200888,  915490,  738674,  613002,\n",
              "           9518,  758542,  283901,  633085,  867439,  496918,  335603,   54472,\n",
              "         572422,  789556,  468186,  758841,  746400,  679325,  611621,  369082,\n",
              "         570167,  714822,  803761,  653116,   38165,  195711,  338240,  221663,\n",
              "         646602,  431429,  749830,  167702,  431471,  867787,  991274,  859068,\n",
              "         261256,  472861,  348441,  203991,  246921,  896116,  401327,  837755])"
            ]
          },
          "metadata": {},
          "execution_count": 10
        }
      ]
    },
    {
      "cell_type": "code",
      "source": [
        "len(text)"
      ],
      "metadata": {
        "colab": {
          "base_uri": "https://localhost:8080/"
        },
        "id": "-qjQ304UBtE5",
        "outputId": "e25992b8-6669-4695-f654-09c9e87f02a6"
      },
      "execution_count": null,
      "outputs": [
        {
          "output_type": "execute_result",
          "data": {
            "text/plain": [
              "1039654"
            ]
          },
          "metadata": {},
          "execution_count": 5
        }
      ]
    },
    {
      "cell_type": "code",
      "source": [
        "torch.tril((torch.ones(block_size,block_size)))"
      ],
      "metadata": {
        "colab": {
          "base_uri": "https://localhost:8080/"
        },
        "id": "sPAyHWsCTeA0",
        "outputId": "4adeea55-0e02-46fb-dccd-0a03e8a80a3f"
      },
      "execution_count": null,
      "outputs": [
        {
          "output_type": "execute_result",
          "data": {
            "text/plain": [
              "tensor([[1., 0., 0.,  ..., 0., 0., 0.],\n",
              "        [1., 1., 0.,  ..., 0., 0., 0.],\n",
              "        [1., 1., 1.,  ..., 0., 0., 0.],\n",
              "        ...,\n",
              "        [1., 1., 1.,  ..., 1., 0., 0.],\n",
              "        [1., 1., 1.,  ..., 1., 1., 0.],\n",
              "        [1., 1., 1.,  ..., 1., 1., 1.]])"
            ]
          },
          "metadata": {},
          "execution_count": 12
        }
      ]
    }
  ],
  "metadata": {
    "kernelspec": {
      "display_name": "Python 3",
      "name": "python3"
    },
    "language_info": {
      "name": "python",
      "version": "3.11.4"
    },
    "colab": {
      "provenance": [],
      "gpuType": "T4",
      "include_colab_link": true
    },
    "accelerator": "GPU"
  },
  "nbformat": 4,
  "nbformat_minor": 0
}